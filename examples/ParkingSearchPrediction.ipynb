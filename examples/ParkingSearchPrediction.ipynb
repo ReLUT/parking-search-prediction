{
 "cells": [
  {
   "cell_type": "markdown",
   "metadata": {},
   "source": [
    "# Import Required Packages"
   ]
  },
  {
   "cell_type": "code",
   "execution_count": 2,
   "metadata": {},
   "outputs": [],
   "source": [
    "import sys\n",
    "import numpy as np\n",
    "import pandas as pd\n",
    "sys.path.append('../src/neural_network')\n",
    "from predict import *"
   ]
  },
  {
   "cell_type": "markdown",
   "metadata": {},
   "source": [
    "# Loading Example Trajectories"
   ]
  },
  {
   "cell_type": "code",
   "execution_count": 3,
   "metadata": {},
   "outputs": [],
   "source": [
    "trajectory1 = pd.read_csv('trajectory_1.csv')\n",
    "trajectory2 = pd.read_csv('trajectory_2.csv')\n",
    "trajectory3 = pd.read_csv('trajectory_3.csv')"
   ]
  },
  {
   "cell_type": "markdown",
   "metadata": {},
   "source": [
    "# Visualization Functions"
   ]
  },
  {
   "cell_type": "code",
   "execution_count": 4,
   "metadata": {},
   "outputs": [],
   "source": [
    "import matplotlib.pyplot as plt\n",
    "import geopandas as gpd\n",
    "from shapely.geometry import Point, LineString\n",
    "import contextily as ctx\n",
    "\n",
    "def format_duration(seconds, unit='sec'):\n",
    "    \"\"\"\n",
    "    Display time duration in HH:MM:SS or MM:SS format.\n",
    "    \n",
    "    Parameters:\n",
    "    - seconds: The time in seconds or minutes.\n",
    "    - unit: The unit of the input time ('sec' for seconds, 'min' for minutes).\n",
    "\n",
    "    Returns:\n",
    "    - A string representation of the time in either HH:MM:SS or MM:SS format.\n",
    "    \"\"\"\n",
    "    \n",
    "    if unit == 'min':\n",
    "        seconds *= 60\n",
    "    \n",
    "    if np.isnan(seconds):\n",
    "        return np.nan\n",
    "    \n",
    "    hours = 0\n",
    "    if seconds >= 60*60:\n",
    "        hours = seconds // (60*60)\n",
    "        seconds %= (60*60)\n",
    "    \n",
    "    minutes = seconds // 60\n",
    "    seconds %= 60\n",
    "    \n",
    "    if hours:\n",
    "        return f\"{int(hours):02}:{int(minutes):02}:{int(seconds):02}\"\n",
    "    else:\n",
    "        return f\"{int(minutes):02}:{int(seconds):02}\"\n",
    "\n",
    "def plot_gps_route(ax,\n",
    "                   GPS_df,\n",
    "                   trip_ID=None,\n",
    "                   label='y_hat_labels',\n",
    "                   n_driving_points=30,\n",
    "                   col_lat='lat',\n",
    "                   col_lon='lon',\n",
    "                   title='',\n",
    "                   basemap=True,\n",
    "                   ax_legend=True):\n",
    "    \n",
    "    if trip_ID is not None:\n",
    "        trip_test = GPS_df[GPS_df['TripId']==trip_ID].reset_index(drop=True).reset_index()\n",
    "    else:\n",
    "        trip_test = GPS_df\n",
    "\n",
    "\n",
    "    gdf=gpd.GeoDataFrame(data=trip_test,\n",
    "                         geometry=trip_test[[col_lat, col_lon]]\\\n",
    "                             .apply(lambda x: Point(x[col_lon], x[col_lat]), axis=1).values,\n",
    "                         crs='EPSG:4326')\n",
    "\n",
    "\n",
    "    idx_drive_max = gdf[gdf['y_hat_labels']=='driving'].iloc[-1].name\n",
    "\n",
    "    ## route points\n",
    "    gdf[gdf[f'{label}']=='driving'][idx_drive_max-n_driving_points:]\\\n",
    "            .to_crs('EPSG:3857').plot(ax=ax, color='blue', label='Driving',zorder=2)\n",
    "    gdf[gdf[f'{label}']=='searching'].to_crs('EPSG:3857').plot(ax=ax, color='tab:red', label='Searching')\n",
    "\n",
    "    ## route lines\n",
    "    begin_loc_search = gdf[gdf[f'{label}']=='searching'].iloc[0].name\n",
    "    gpd.GeoDataFrame(geometry=[LineString(gdf[idx_drive_max-n_driving_points:begin_loc_search+1]['geometry'].values)],\n",
    "                     crs='epsg:4326').to_crs('EPSG:3857').plot(ax=ax, color='tab:blue')\n",
    "    gpd.GeoDataFrame(geometry=[LineString(gdf[gdf[f'{label}']=='searching']['geometry'].values)],\n",
    "                     crs='epsg:4326').to_crs('EPSG:3857').plot(ax=ax, color='tab:red')\n",
    "\n",
    "    ## main points\n",
    "    # gdf.iloc[[0]].to_crs('EPSG:3857').plot(color='blue',edgecolor='black', markersize=200, ax=ax,lw=3, label='Origin')\n",
    "    gdf[gdf[f'{label}']=='searching'].iloc[[0]].to_crs('EPSG:3857').plot(ax=ax, edgecolor='black',lw=3, zorder=2,\n",
    "                                                   markersize=350,color='red', label='Search Starting Point')\n",
    "    gdf[gdf[f'{label}']=='searching'].iloc[[-1]].to_crs('EPSG:3857').plot(ax=ax, edgecolor='black',lw=3, zorder=2,\n",
    "                                                    label='Parking Spot',markersize=350,color='tab:orange')\n",
    "\n",
    "\n",
    "    xlim=ax.get_xlim()\n",
    "    ylim=ax.get_ylim()\n",
    "\n",
    "    ax.set_xlim([xlim[0]-10,xlim[1]+10])\n",
    "    ax.set_ylim([ylim[0],ylim[1]+10])\n",
    "    ax.set_axis_off()\n",
    "    if ax_legend:\n",
    "        ax.legend()\n",
    "\n",
    "    psd_tmp = gdf[gdf[label] == \"searching\"]['remainingTime'].iloc[0]\n",
    "\n",
    "    ax.set_title(f'{title}\\nParking Search Duration: {format_duration(psd_tmp)}')\n",
    "    \n",
    "    if basemap:\n",
    "        ctx.add_basemap(ax,source=ctx.providers.CartoDB.Positron)\n",
    "        #ctx.add_basemap(ax,source=ctx.providers.CartoDB.Voyager)\n",
    "        #ctx.add_basemap(ax,source=ctx.providers.OpenStreetMap.Mapnik)\n",
    "\n",
    "import folium\n",
    "\n",
    "def visualize_trip(df, tripID=None, label='label'):\n",
    "    \n",
    "    if tripID!=None:     \n",
    "        # Filter the dataframe for the specific tripID\n",
    "        trip_data = df[df['TripID'] == tripID]\n",
    "    else:\n",
    "        trip_data=df\n",
    "\n",
    "    # Colors based on label\n",
    "    color_map = {\n",
    "        'driving': 'blue',\n",
    "        'searching': 'red',\n",
    "        'walking': 'green'\n",
    "    }\n",
    "\n",
    "    # Use the last point as the center\n",
    "    last_point = trip_data.iloc[-1]\n",
    "    m = folium.Map(location=[last_point['lat'], last_point['lon']], zoom_start=15)\n",
    "\n",
    "    # Iterate through the rows in trip_data and add markers to the map\n",
    "    for _, row in trip_data.iterrows():\n",
    "        folium.CircleMarker(\n",
    "            location=[row['lat'], row['lon']],\n",
    "            radius=5,  # Adjust this as needed to change the size of the circle markers\n",
    "            popup=f\"Speed: {row['speed_kmh']}\",\n",
    "            color=color_map[row[label]],\n",
    "            fill=True,\n",
    "            fill_color=color_map[row[label]],\n",
    "            fill_opacity=1.0\n",
    "        ).add_to(m)\n",
    "\n",
    "    return m"
   ]
  },
  {
   "cell_type": "markdown",
   "metadata": {},
   "source": [
    "# Single Trajectory"
   ]
  },
  {
   "cell_type": "markdown",
   "metadata": {},
   "source": [
    "**Example 1:**"
   ]
  },
  {
   "cell_type": "code",
   "execution_count": 6,
   "metadata": {},
   "outputs": [
    {
     "name": "stdout",
     "output_type": "stream",
     "text": [
      "3/3 [==============================] - 0s 6ms/step\n"
     ]
    }
   ],
   "source": [
    "traj1_pred = park_search_predict(trajectory1, \n",
    "                                 model_path='../model/ParkingSearchPrediction.h5',\n",
    "                                 col_ID=None,\n",
    "                                 col_time='timestamp',\n",
    "                                 col_speed='speed_kmh',\n",
    "                                 col_lat='lat',\n",
    "                                 col_lon='lon',\n",
    "                                 verbose=1)"
   ]
  },
  {
   "cell_type": "code",
   "execution_count": 7,
   "metadata": {},
   "outputs": [
    {
     "data": {
      "text/html": [
       "<div>\n",
       "<style scoped>\n",
       "    .dataframe tbody tr th:only-of-type {\n",
       "        vertical-align: middle;\n",
       "    }\n",
       "\n",
       "    .dataframe tbody tr th {\n",
       "        vertical-align: top;\n",
       "    }\n",
       "\n",
       "    .dataframe thead th {\n",
       "        text-align: right;\n",
       "    }\n",
       "</style>\n",
       "<table border=\"1\" class=\"dataframe\">\n",
       "  <thead>\n",
       "    <tr style=\"text-align: right;\">\n",
       "      <th></th>\n",
       "      <th>lon</th>\n",
       "      <th>lat</th>\n",
       "      <th>timestamp</th>\n",
       "      <th>speed_kmh</th>\n",
       "      <th>label</th>\n",
       "      <th>distToParkingSpot</th>\n",
       "      <th>samplingRate</th>\n",
       "      <th>remainingTime</th>\n",
       "      <th>y_hat_p</th>\n",
       "      <th>y_hat_labels</th>\n",
       "    </tr>\n",
       "  </thead>\n",
       "  <tbody>\n",
       "    <tr>\n",
       "      <th>0</th>\n",
       "      <td>8.677233</td>\n",
       "      <td>50.130181</td>\n",
       "      <td>2021-02-22 20:11:11</td>\n",
       "      <td>0.000000</td>\n",
       "      <td>driving</td>\n",
       "      <td>972.423844</td>\n",
       "      <td>0.0</td>\n",
       "      <td>489.0</td>\n",
       "      <td>0.004500</td>\n",
       "      <td>driving</td>\n",
       "    </tr>\n",
       "    <tr>\n",
       "      <th>1</th>\n",
       "      <td>8.677274</td>\n",
       "      <td>50.130207</td>\n",
       "      <td>2021-02-22 20:11:39</td>\n",
       "      <td>4.195406</td>\n",
       "      <td>driving</td>\n",
       "      <td>975.011992</td>\n",
       "      <td>28.0</td>\n",
       "      <td>461.0</td>\n",
       "      <td>0.006216</td>\n",
       "      <td>driving</td>\n",
       "    </tr>\n",
       "    <tr>\n",
       "      <th>2</th>\n",
       "      <td>8.677753</td>\n",
       "      <td>50.130292</td>\n",
       "      <td>2021-02-22 20:11:45</td>\n",
       "      <td>20.599526</td>\n",
       "      <td>driving</td>\n",
       "      <td>981.721493</td>\n",
       "      <td>6.0</td>\n",
       "      <td>455.0</td>\n",
       "      <td>0.003959</td>\n",
       "      <td>driving</td>\n",
       "    </tr>\n",
       "    <tr>\n",
       "      <th>3</th>\n",
       "      <td>8.678072</td>\n",
       "      <td>50.130509</td>\n",
       "      <td>2021-02-22 20:11:51</td>\n",
       "      <td>19.489262</td>\n",
       "      <td>driving</td>\n",
       "      <td>1004.692344</td>\n",
       "      <td>6.0</td>\n",
       "      <td>449.0</td>\n",
       "      <td>0.005176</td>\n",
       "      <td>driving</td>\n",
       "    </tr>\n",
       "    <tr>\n",
       "      <th>4</th>\n",
       "      <td>8.678317</td>\n",
       "      <td>50.130747</td>\n",
       "      <td>2021-02-22 20:11:57</td>\n",
       "      <td>16.513604</td>\n",
       "      <td>driving</td>\n",
       "      <td>1030.645062</td>\n",
       "      <td>6.0</td>\n",
       "      <td>443.0</td>\n",
       "      <td>0.005365</td>\n",
       "      <td>driving</td>\n",
       "    </tr>\n",
       "  </tbody>\n",
       "</table>\n",
       "</div>"
      ],
      "text/plain": [
       "        lon        lat           timestamp  speed_kmh    label   \n",
       "0  8.677233  50.130181 2021-02-22 20:11:11   0.000000  driving  \\\n",
       "1  8.677274  50.130207 2021-02-22 20:11:39   4.195406  driving   \n",
       "2  8.677753  50.130292 2021-02-22 20:11:45  20.599526  driving   \n",
       "3  8.678072  50.130509 2021-02-22 20:11:51  19.489262  driving   \n",
       "4  8.678317  50.130747 2021-02-22 20:11:57  16.513604  driving   \n",
       "\n",
       "   distToParkingSpot  samplingRate  remainingTime   y_hat_p y_hat_labels  \n",
       "0         972.423844           0.0          489.0  0.004500      driving  \n",
       "1         975.011992          28.0          461.0  0.006216      driving  \n",
       "2         981.721493           6.0          455.0  0.003959      driving  \n",
       "3        1004.692344           6.0          449.0  0.005176      driving  \n",
       "4        1030.645062           6.0          443.0  0.005365      driving  "
      ]
     },
     "execution_count": 7,
     "metadata": {},
     "output_type": "execute_result"
    }
   ],
   "source": [
    "traj1_pred.head()"
   ]
  },
  {
   "cell_type": "code",
   "execution_count": null,
   "metadata": {},
   "outputs": [],
   "source": [
    "fig, axs = plt.subplots(1,2, figsize=(12,12), dpi=200)\n",
    "plot_gps_route(axs[0], traj1_pred, n_driving_points=15, label='label', title='Actual Labels', ax_legend=False)\n",
    "plot_gps_route(axs[1], traj1_pred, n_driving_points=15, label='y_hat_labels', title='Predicted Labels')\n",
    "plt.tight_layout()"
   ]
  },
  {
   "cell_type": "markdown",
   "metadata": {},
   "source": [
    "**Example 2:**"
   ]
  },
  {
   "cell_type": "code",
   "execution_count": null,
   "metadata": {},
   "outputs": [],
   "source": [
    "traj2_pred = park_search_predict(trajectory2, \n",
    "                                 model_path='../model/ParkingSearchPrediction.h5',\n",
    "                                 col_ID=None,\n",
    "                                 col_time='timestamp',\n",
    "                                 col_speed='speed_kmh',\n",
    "                                 col_lat='lat',\n",
    "                                 col_lon='lon',\n",
    "                                 verbose=1)"
   ]
  },
  {
   "cell_type": "code",
   "execution_count": null,
   "metadata": {},
   "outputs": [],
   "source": [
    "fig, axs = plt.subplots(1,2, figsize=(12,12), dpi=200)\n",
    "plot_gps_route(axs[0], traj2_pred, n_driving_points=15, label='label', title='Actual Labels', ax_legend=False)\n",
    "plot_gps_route(axs[1], traj2_pred, n_driving_points=15, label='y_hat_labels', title='Predicted Labels')\n",
    "plt.tight_layout()"
   ]
  },
  {
   "cell_type": "markdown",
   "metadata": {},
   "source": [
    "**Example 3:**"
   ]
  },
  {
   "cell_type": "code",
   "execution_count": null,
   "metadata": {},
   "outputs": [],
   "source": [
    "traj3_pred = park_search_predict(trajectory3, \n",
    "                                 model_path='../model/ParkingSearchPrediction.h5',\n",
    "                                 col_ID=None,\n",
    "                                 col_time='timestamp',\n",
    "                                 col_speed='speed_kmh',\n",
    "                                 col_lat='lat',\n",
    "                                 col_lon='lon',\n",
    "                                 verbose=1)"
   ]
  },
  {
   "cell_type": "code",
   "execution_count": null,
   "metadata": {
    "scrolled": false
   },
   "outputs": [],
   "source": [
    "fig, axs = plt.subplots(1,2, figsize=(12,12), dpi=100)\n",
    "plot_gps_route(axs[0], traj3_pred, n_driving_points=40, label='label', title='Actual Labels', ax_legend=False)\n",
    "plot_gps_route(axs[1], traj3_pred, n_driving_points=40, label='y_hat_labels', title='Predicted Labels')\n",
    "plt.tight_layout()"
   ]
  },
  {
   "cell_type": "markdown",
   "metadata": {},
   "source": [
    "# Multiple Trajectories"
   ]
  },
  {
   "cell_type": "code",
   "execution_count": null,
   "metadata": {},
   "outputs": [],
   "source": [
    "trajectory1['TripID']='Trip#1'\n",
    "trajectory2['TripID']='Trip#2'\n",
    "trajectory3['TripID']='Trip#3'\n",
    "\n",
    "traj_df = pd.concat([trajectory1, trajectory2, trajectory3])"
   ]
  },
  {
   "cell_type": "code",
   "execution_count": null,
   "metadata": {},
   "outputs": [],
   "source": [
    "traj_df_pred = park_search_predict(traj_df, \n",
    "                                   model_path='../model/ParkingSearchPrediction.h5',\n",
    "                                   col_ID='TripID',\n",
    "                                   col_time='timestamp',\n",
    "                                   col_speed='speed_kmh',\n",
    "                                   col_lat='lat',\n",
    "                                   col_lon='lon',\n",
    "                                   verbose=1)"
   ]
  },
  {
   "cell_type": "code",
   "execution_count": null,
   "metadata": {},
   "outputs": [],
   "source": [
    "traj_df_pred"
   ]
  },
  {
   "cell_type": "code",
   "execution_count": null,
   "metadata": {},
   "outputs": [],
   "source": [
    "visualize_trip(traj_df_pred, tripID='Trip#1', label='y_hat_labels')"
   ]
  },
  {
   "cell_type": "code",
   "execution_count": null,
   "metadata": {},
   "outputs": [],
   "source": []
  },
  {
   "cell_type": "code",
   "execution_count": null,
   "metadata": {},
   "outputs": [],
   "source": []
  },
  {
   "cell_type": "code",
   "execution_count": null,
   "metadata": {},
   "outputs": [],
   "source": []
  },
  {
   "cell_type": "code",
   "execution_count": null,
   "metadata": {},
   "outputs": [],
   "source": []
  },
  {
   "cell_type": "code",
   "execution_count": null,
   "metadata": {},
   "outputs": [],
   "source": []
  }
 ],
 "metadata": {
  "kernelspec": {
   "display_name": "geoTensor",
   "language": "python",
   "name": "geotensor"
  },
  "language_info": {
   "codemirror_mode": {
    "name": "ipython",
    "version": 3
   },
   "file_extension": ".py",
   "mimetype": "text/x-python",
   "name": "python",
   "nbconvert_exporter": "python",
   "pygments_lexer": "ipython3",
   "version": "3.8.16"
  }
 },
 "nbformat": 4,
 "nbformat_minor": 4
}
